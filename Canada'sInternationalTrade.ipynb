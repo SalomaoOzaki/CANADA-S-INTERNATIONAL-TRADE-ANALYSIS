{
 "cells": [
  {
   "cell_type": "code",
   "execution_count": null,
   "id": "1445e20c",
   "metadata": {},
   "outputs": [],
   "source": [
    "# Import the StatsCan library to fetch data from Statistics Canada's API\n",
    "from stats_can import StatsCan \n",
    "\n",
    "# Create an instance of the StatsCan class\n",
    "sc = StatsCan()\n",
    "\n",
    "# Fetch the data table \"12-10-0175-01\" from Statistics Canada and convert it into a Pandas DataFrame\n",
    "dataset = sc.table_to_df(\"12-10-0175-01\")\n",
    "\n",
    "# Filter the dataset to include only rows where the year in the 'REF_DATE' column is between 2019 and 2024\n",
    "df_filtered = dataset[dataset['REF_DATE'].dt.year.isin([2019,2020,2021,2022,2023,2024])]\n",
    "\n",
    "# Save the filtered DataFrame as a CSV file to the specified file path\n",
    "df_filtered.to_csv(\"C:mypath/Portfolio/Monthly.csv\") "
   ]
  },
  {
   "cell_type": "code",
   "execution_count": null,
   "id": "a9c2612e",
   "metadata": {},
   "outputs": [],
   "source": [
    "import boto3\n",
    "import os\n",
    "aws_access_key_id = 'key_Id'\n",
    "aws_secret_access_key = 'Secret_Key'\n",
    "\n",
    "#defining the name of bucket \n",
    "bucket_name = 'my-aws-portfolio-bucket'\n",
    "\n",
    "#defining the directory where the file is located\n",
    "directory_path = 'C:mypath/Portfolio/'\n",
    "\n",
    "#creating a Boto3 S3 client\n",
    "s3 = boto3.client('s3',aws_access_key_id=aws_access_key_id,aws_secret_access_key=aws_secret_access_key)\n",
    "\n",
    "# Checking the files in the directory\n",
    "for root, dirs, files in os.walk(directory_path):\n",
    "    for file_name in files:\n",
    "        # Check if the file has \"monthly\" in its name and ends with .csv\n",
    "        if 'monthly' in file_name.lower() and file_name.endswith('.csv'):\n",
    "            local_file_path = os.path.join(root, file_name)\n",
    "            \n",
    "            # Set the S3 key explicitly to the \"monthly/\" folder\n",
    "            s3_key = f\"monthly/{file_name}\"\n",
    "            \n",
    "            # Upload the file to S3\n",
    "            try:\n",
    "                s3.upload_file(local_file_path, bucket_name, s3_key)\n",
    "                print(f\"✅ Uploaded {file_name} to s3://{bucket_name}/{s3_key}\")\n",
    "            except Exception as e:\n",
    "                print(f\"❌ Failed to upload {file_name}: {e}\")"
   ]
  }
 ],
 "metadata": {
  "kernelspec": {
   "display_name": "Python 3",
   "language": "python",
   "name": "python3"
  },
  "language_info": {
   "codemirror_mode": {
    "name": "ipython",
    "version": 3
   },
   "file_extension": ".py",
   "mimetype": "text/x-python",
   "name": "python",
   "nbconvert_exporter": "python",
   "pygments_lexer": "ipython3",
   "version": "3.11.5"
  }
 },
 "nbformat": 4,
 "nbformat_minor": 5
}
